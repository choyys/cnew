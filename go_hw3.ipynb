{
 "cells": [
  {
   "cell_type": "markdown",
   "metadata": {},
   "source": [
    "# 최성욱"
   ]
  },
  {
   "cell_type": "markdown",
   "metadata": {},
   "source": [
    "# 61"
   ]
  },
  {
   "cell_type": "code",
   "execution_count": 5,
   "metadata": {},
   "outputs": [
    {
     "name": "stdout",
     "output_type": "stream",
     "text": [
      "1\n",
      "2\n",
      "3\n",
      "0\n",
      "2.0\n"
     ]
    }
   ],
   "source": [
    "# 61\n",
    "l=list()\n",
    "res=0\n",
    "a= int(input())\n",
    "if a==0:\n",
    "    print(\"0은 처음에 입력되면 안된다.\")\n",
    "else:\n",
    "    l.append(a)\n",
    "    while True:\n",
    "        b=int(input())\n",
    "        if b!=0:\n",
    "            l.append(b)\n",
    "        else:\n",
    "            length=len(l)\n",
    "            for i in l:\n",
    "                res+=i\n",
    "            res=res/length\n",
    "            print(res)\n",
    "            break"
   ]
  },
  {
   "cell_type": "markdown",
   "metadata": {},
   "source": [
    "# 63"
   ]
  },
  {
   "cell_type": "code",
   "execution_count": 6,
   "metadata": {},
   "outputs": [
    {
     "name": "stdout",
     "output_type": "stream",
     "text": [
      "Celsius    Fahrenheit\n",
      "0           32.0\n",
      "10          50.0\n",
      "20          68.0\n",
      "30          86.0\n",
      "40          104.0\n",
      "50          122.0\n",
      "60          140.0\n",
      "70          158.0\n",
      "80          176.0\n",
      "90          194.0\n",
      "100         212.0\n"
     ]
    }
   ],
   "source": [
    "# 63\n",
    "def change(c):\n",
    "    f = c*1.8 + 32\n",
    "    return f\n",
    "print(\"Celsius    Fahrenheit\")\n",
    "for i in range(0,101,10):\n",
    "    if i==0:\n",
    "        print(i,end=\"           \")\n",
    "        print(change(i))\n",
    "    elif i==100:\n",
    "        print(i,end=\"         \")\n",
    "        print(change(i))\n",
    "    else:\n",
    "        print(i,end=\"          \")\n",
    "        print(change(i))"
   ]
  },
  {
   "cell_type": "markdown",
   "metadata": {},
   "source": [
    "# 66"
   ]
  },
  {
   "cell_type": "code",
   "execution_count": 7,
   "metadata": {},
   "outputs": [
    {
     "name": "stdout",
     "output_type": "stream",
     "text": [
      "A\n",
      "A+\n",
      "A-\n",
      "\n",
      "4.0\n"
     ]
    }
   ],
   "source": [
    "# 66\n",
    "s=0\n",
    "l=list()\n",
    "res=0\n",
    "while True:\n",
    "    a=input()\n",
    "    if a!=\"\":\n",
    "        if \"+\" in a:\n",
    "            s+=0.3\n",
    "        elif \"-\" in a:\n",
    "            s-=0.3\n",
    "        if 'A' in a:\n",
    "            s+=4\n",
    "        elif 'B' in a:\n",
    "            s+=3\n",
    "        elif 'C' in a:\n",
    "            s+=2\n",
    "        elif 'D' in a:\n",
    "            s+=1\n",
    "        else:\n",
    "            s+=0\n",
    "        l.append(s)\n",
    "        s=0\n",
    "    else:\n",
    "        length=len(l)\n",
    "        for i in l:\n",
    "            res+=i\n",
    "        res=res/length\n",
    "        print(res)\n",
    "        break"
   ]
  },
  {
   "cell_type": "markdown",
   "metadata": {},
   "source": [
    "# 67"
   ]
  },
  {
   "cell_type": "code",
   "execution_count": 8,
   "metadata": {},
   "outputs": [
    {
     "name": "stdout",
     "output_type": "stream",
     "text": [
      "4\n",
      "5\n",
      "6\n",
      "78\n",
      "\n",
      "your cost is $60.00.\n"
     ]
    }
   ],
   "source": [
    "# 67\n",
    "fee=0\n",
    "while True:\n",
    "    a=input()\n",
    "    if a!=\"\":\n",
    "        b=int(a)\n",
    "        if b in range(0,3):\n",
    "            fee+=0\n",
    "        elif b in range(3,13):\n",
    "            fee+=14\n",
    "        elif b>=65:\n",
    "            fee+=18\n",
    "        else:\n",
    "            fee+=23\n",
    "    else:\n",
    "        sfee=str(fee)\n",
    "        print(\"your cost is $\"+sfee+\".00.\")\n",
    "        break"
   ]
  },
  {
   "cell_type": "markdown",
   "metadata": {},
   "source": [
    "# 72"
   ]
  },
  {
   "cell_type": "code",
   "execution_count": 9,
   "metadata": {},
   "outputs": [
    {
     "name": "stdout",
     "output_type": "stream",
     "text": [
      "civic\n",
      "it's palindrome\n"
     ]
    }
   ],
   "source": [
    "# 72\n",
    "a=input()\n",
    "length=len(a)\n",
    "flag=0\n",
    "\n",
    "ran=length//2\n",
    "for i in range(ran):\n",
    "    if a[i]==a[-(i+1)]:\n",
    "        flag+=1\n",
    "    else:\n",
    "        break\n",
    "if flag==ran:\n",
    "    print(\"it's palindrome\")\n",
    "else:\n",
    "    print(\"not palindrome\")"
   ]
  },
  {
   "cell_type": "markdown",
   "metadata": {},
   "source": [
    "# 74"
   ]
  },
  {
   "cell_type": "code",
   "execution_count": 10,
   "metadata": {},
   "outputs": [
    {
     "name": "stdout",
     "output_type": "stream",
     "text": [
      " \t1\t2\t3\t4\t5\t6\t7\t8\t9\t10\n",
      "1\t1\t2\t3\t4\t5\t6\t7\t8\t9\t10\n",
      "2\t2\t4\t6\t8\t10\t12\t14\t16\t18\t20\n",
      "3\t3\t6\t9\t12\t15\t18\t21\t24\t27\t30\n",
      "4\t4\t8\t12\t16\t20\t24\t28\t32\t36\t40\n",
      "5\t5\t10\t15\t20\t25\t30\t35\t40\t45\t50\n",
      "6\t6\t12\t18\t24\t30\t36\t42\t48\t54\t60\n",
      "7\t7\t14\t21\t28\t35\t42\t49\t56\t63\t70\n",
      "8\t8\t16\t24\t32\t40\t48\t56\t64\t72\t80\n",
      "9\t9\t18\t27\t36\t45\t54\t63\t72\t81\t90\n",
      "10\t10\t20\t30\t40\t50\t60\t70\t80\t90\t100\n"
     ]
    }
   ],
   "source": [
    "# 74\n",
    "for i in range(0,11):\n",
    "    for j in range(0,11):\n",
    "        if i==0:\n",
    "            if j==0:\n",
    "                print(\" \",end=\"\\t\")\n",
    "            elif j==10:\n",
    "                print(j)\n",
    "            else:\n",
    "                print(j,end=\"\\t\")\n",
    "        else:\n",
    "            if j==0:\n",
    "                print(i,end=\"\\t\")\n",
    "            elif j==10:\n",
    "                print(i*j)\n",
    "            else:\n",
    "                print(i*j,end=\"\\t\")"
   ]
  },
  {
   "cell_type": "markdown",
   "metadata": {},
   "source": [
    "# 75"
   ]
  },
  {
   "cell_type": "code",
   "execution_count": 11,
   "metadata": {},
   "outputs": [
    {
     "name": "stdout",
     "output_type": "stream",
     "text": [
      "4\n",
      "6\n",
      "greatest common divisor:  2\n"
     ]
    }
   ],
   "source": [
    "# 75\n",
    "a=int(input())\n",
    "b=int(input())\n",
    "d=0\n",
    "if a <= b:\n",
    "    d=a\n",
    "else:\n",
    "    d=b\n",
    "while (a%d)!=0 or (b%d)!=0:\n",
    "    d-=1\n",
    "    if d==1:\n",
    "        break\n",
    "print(\"greatest common divisor: \" , d)"
   ]
  },
  {
   "cell_type": "markdown",
   "metadata": {},
   "source": [
    "# 77"
   ]
  },
  {
   "cell_type": "code",
   "execution_count": 13,
   "metadata": {},
   "outputs": [
    {
     "name": "stdout",
     "output_type": "stream",
     "text": [
      "101\n",
      "decimal:  5\n"
     ]
    }
   ],
   "source": [
    "# 77\n",
    "res=0\n",
    "b=input()\n",
    "length=len(b)\n",
    "for i in range(length):\n",
    "    res+=int(b[i])*(2**(length-(i+1)))\n",
    "print(\"decimal: \",res)"
   ]
  },
  {
   "cell_type": "markdown",
   "metadata": {},
   "source": [
    "# 78"
   ]
  },
  {
   "cell_type": "code",
   "execution_count": 3,
   "metadata": {},
   "outputs": [
    {
     "name": "stdout",
     "output_type": "stream",
     "text": [
      "6\n",
      "binary number is 110\n"
     ]
    }
   ],
   "source": [
    "# 78\n",
    "res=\"\"\n",
    "q=int(input())\n",
    "while q >= 0:\n",
    "    r=q%2\n",
    "    res+=str(r)\n",
    "    q=q//2\n",
    "    if q==0:\n",
    "        break\n",
    "res=res[::-1]\n",
    "print(\"binary number is\",res)"
   ]
  }
 ],
 "metadata": {
  "kernelspec": {
   "display_name": "Python 3",
   "language": "python",
   "name": "python3"
  },
  "language_info": {
   "codemirror_mode": {
    "name": "ipython",
    "version": 3
   },
   "file_extension": ".py",
   "mimetype": "text/x-python",
   "name": "python",
   "nbconvert_exporter": "python",
   "pygments_lexer": "ipython3",
   "version": "3.6.4"
  }
 },
 "nbformat": 4,
 "nbformat_minor": 2
}
