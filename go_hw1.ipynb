{
 "cells": [
  {
   "cell_type": "markdown",
   "metadata": {},
   "source": [
    "# 1주차 과제\n",
    "\n",
    "1. 관심 분야\n",
    "    - 데이터를 크롤링하고 정형화시키는 부분과 데이터 분석하는 부분에 관심이 있습니다. \n",
    "2. 다루고 싶은 데이터 \n",
    "    - 금융데이터 : 주식 가격 예측 서비스\n",
    "    - 부동산데이터 : 부동산 가격 예측 서비스\n"
   ]
  },
  {
   "cell_type": "code",
   "execution_count": null,
   "metadata": {},
   "outputs": [],
   "source": []
  }
 ],
 "metadata": {
  "kernelspec": {
   "display_name": "Python 3",
   "language": "python",
   "name": "python3"
  },
  "language_info": {
   "codemirror_mode": {
    "name": "ipython",
    "version": 3
   },
   "file_extension": ".py",
   "mimetype": "text/x-python",
   "name": "python",
   "nbconvert_exporter": "python",
   "pygments_lexer": "ipython3",
   "version": "3.6.4"
  }
 },
 "nbformat": 4,
 "nbformat_minor": 2
}
