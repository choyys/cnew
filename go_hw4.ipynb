{
 "cells": [
  {
   "cell_type": "markdown",
   "metadata": {},
   "source": [
    "# 82"
   ]
  },
  {
   "cell_type": "code",
   "execution_count": 15,
   "metadata": {},
   "outputs": [
    {
     "name": "stdout",
     "output_type": "stream",
     "text": [
      "total fare:  254.0\n"
     ]
    }
   ],
   "source": [
    "def fare(d):\n",
    "    f= d*1000/140*0.25+4\n",
    "    return f\n",
    "\n",
    "ex=fare(140)\n",
    "print(\"total fare: \",ex)"
   ]
  },
  {
   "cell_type": "markdown",
   "metadata": {},
   "source": [
    "# 84"
   ]
  },
  {
   "cell_type": "code",
   "execution_count": 17,
   "metadata": {},
   "outputs": [
    {
     "name": "stdout",
     "output_type": "stream",
     "text": [
      "5\n",
      "6\n",
      "7\n",
      "median:  6\n"
     ]
    }
   ],
   "source": [
    "def medi(x,y,z):\n",
    "    li=[x,y,z]\n",
    "    li.sort()\n",
    "    return li[1]\n",
    "\n",
    "a=int(input())\n",
    "b=int(input())    \n",
    "c=int(input())\n",
    "print(\"median: \",medi(a,b,c))"
   ]
  },
  {
   "cell_type": "markdown",
   "metadata": {},
   "source": [
    "# 85"
   ]
  },
  {
   "cell_type": "code",
   "execution_count": 6,
   "metadata": {},
   "outputs": [
    {
     "name": "stdout",
     "output_type": "stream",
     "text": [
      "1 first\n",
      "2 second\n",
      "3 third\n",
      "4 forth\n",
      "5 fifth\n",
      "6 sixth\n",
      "7 seventh\n",
      "8 eighth\n",
      "9 nineth\n",
      "10 ten\n",
      "11 eleven\n",
      "12 twelve\n"
     ]
    }
   ],
   "source": [
    "def con(a):\n",
    "    l=['first','second','third','forth','fifth','sixth','seventh','eighth','nineth','ten','eleven','twelve']\n",
    "    if a in range(1,13):\n",
    "        return l[a-1]\n",
    "    else:\n",
    "        return \"\"\n",
    "for i in range(1,13):\n",
    "    print(i,con(i))"
   ]
  },
  {
   "cell_type": "markdown",
   "metadata": {},
   "source": [
    "# 88"
   ]
  },
  {
   "cell_type": "code",
   "execution_count": 13,
   "metadata": {},
   "outputs": [
    {
     "name": "stdout",
     "output_type": "stream",
     "text": [
      "5\n",
      "6\n",
      "1\n",
      "triangle? False\n"
     ]
    }
   ],
   "source": [
    "def tri(x,y,z):\n",
    "    li=[x,y,z]\n",
    "    li.sort()\n",
    "    if li[2]>=li[1]+li[0]:\n",
    "        return False\n",
    "    else:\n",
    "        return True\n",
    "    \n",
    "l=list()\n",
    "for i in range(3):\n",
    "    a=int(input())\n",
    "    l.append(a)\n",
    "    \n",
    "print(\"triangle?\",tri(l[0],l[1],l[2]))\n",
    "    "
   ]
  },
  {
   "cell_type": "markdown",
   "metadata": {},
   "source": [
    "# 92"
   ]
  },
  {
   "cell_type": "code",
   "execution_count": 12,
   "metadata": {},
   "outputs": [
    {
     "name": "stdout",
     "output_type": "stream",
     "text": [
      "6\n",
      "prime? False\n"
     ]
    }
   ],
   "source": [
    "def pri(x):\n",
    "    for i in range(2,x):\n",
    "        if (x%i)!=0:\n",
    "            return True\n",
    "        else:\n",
    "            return False\n",
    "a=int(input())\n",
    "print(\"prime?\",pri(a))"
   ]
  }
 ],
 "metadata": {
  "kernelspec": {
   "display_name": "Python 3",
   "language": "python",
   "name": "python3"
  },
  "language_info": {
   "codemirror_mode": {
    "name": "ipython",
    "version": 3
   },
   "file_extension": ".py",
   "mimetype": "text/x-python",
   "name": "python",
   "nbconvert_exporter": "python",
   "pygments_lexer": "ipython3",
   "version": "3.6.4"
  }
 },
 "nbformat": 4,
 "nbformat_minor": 2
}
