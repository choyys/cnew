{
 "cells": [
  {
   "cell_type": "markdown",
   "metadata": {},
   "source": [
    "# 최성욱"
   ]
  },
  {
   "cell_type": "markdown",
   "metadata": {},
   "source": [
    "# 105"
   ]
  },
  {
   "cell_type": "code",
   "execution_count": 1,
   "metadata": {
    "scrolled": true
   },
   "outputs": [
    {
     "name": "stdout",
     "output_type": "stream",
     "text": [
      "1\n",
      "2\n",
      "3\n",
      "4\n",
      "0\n",
      "4\n",
      "3\n",
      "2\n",
      "1\n"
     ]
    }
   ],
   "source": [
    "# 105\n",
    "l=[]\n",
    "while True:\n",
    "    a=int(input())\n",
    "    if a!=0:\n",
    "        l.append(a)\n",
    "    else:\n",
    "        l.reverse()\n",
    "        for i in l:\n",
    "            print(i)\n",
    "        break"
   ]
  },
  {
   "cell_type": "markdown",
   "metadata": {},
   "source": [
    "# 107"
   ]
  },
  {
   "cell_type": "code",
   "execution_count": 2,
   "metadata": {},
   "outputs": [
    {
     "name": "stdout",
     "output_type": "stream",
     "text": [
      "fi\n",
      "se\n",
      "th\n",
      "fi\n",
      "se\n",
      "\n",
      "fi\n",
      "se\n",
      "th\n"
     ]
    }
   ],
   "source": [
    "# 107\n",
    "s=list()\n",
    "while True:\n",
    "    a=input()\n",
    "    if a!='':\n",
    "        if a in s:\n",
    "            continue\n",
    "        else :\n",
    "            s.append(a)\n",
    "    else:\n",
    "        for i in s:\n",
    "            print(i)\n",
    "        break"
   ]
  },
  {
   "cell_type": "markdown",
   "metadata": {},
   "source": [
    "# 108"
   ]
  },
  {
   "cell_type": "code",
   "execution_count": 4,
   "metadata": {},
   "outputs": [
    {
     "name": "stdout",
     "output_type": "stream",
     "text": [
      "-4\n",
      "-3\n",
      "0\n",
      "1\n",
      "0\n",
      "4\n",
      "-5\n",
      "\n",
      "-4, -3, -5, 0, 0, 1, and  4."
     ]
    }
   ],
   "source": [
    "#108\n",
    "l=list()\n",
    "cnt=0\n",
    "while True:\n",
    "    a=input()\n",
    "    if a!='':\n",
    "        b=int(a)\n",
    "        l.append(b)\n",
    "    else:\n",
    "        for i in l:\n",
    "            if i<0:\n",
    "                print(i,end=\", \")\n",
    "                cnt+=1\n",
    "        for i in l:\n",
    "            if i==0:\n",
    "                print(i,end=\", \")\n",
    "                cnt+=1\n",
    "        for i in l:\n",
    "            if i>0:\n",
    "                cnt+=1\n",
    "                if cnt==len(l):\n",
    "                    print(\"and \",i,end=\".\")\n",
    "                else:\n",
    "                    print(i,end=\", \")\n",
    "        break      \n",
    "                "
   ]
  },
  {
   "cell_type": "markdown",
   "metadata": {},
   "source": [
    "# 110"
   ]
  },
  {
   "cell_type": "code",
   "execution_count": 5,
   "metadata": {},
   "outputs": [
    {
     "name": "stdout",
     "output_type": "stream",
     "text": [
      "6\n",
      "28\n",
      "496\n",
      "8128\n"
     ]
    }
   ],
   "source": [
    "#110\n",
    "\n",
    "def perfect(num):\n",
    "    l=[]\n",
    "    sum_l=0\n",
    "    for i in range(1,num):\n",
    "        if num % i ==0:\n",
    "            l.append(i)\n",
    "    for j in l:\n",
    "        sum_l+=j\n",
    "    if num==sum_l:\n",
    "        return True\n",
    "    else:\n",
    "        return False\n",
    "\n",
    "for n in range(1,10000):\n",
    "    if perfect(n)==True:\n",
    "        print(n)"
   ]
  },
  {
   "cell_type": "markdown",
   "metadata": {},
   "source": [
    "# 113"
   ]
  },
  {
   "cell_type": "code",
   "execution_count": 6,
   "metadata": {},
   "outputs": [
    {
     "name": "stdout",
     "output_type": "stream",
     "text": [
      "apple\n",
      "banana\n",
      "orange\n",
      "lemon\n",
      "\n",
      "apple, banana, orange and lemon\n"
     ]
    }
   ],
   "source": [
    "#113\n",
    "def form(a):\n",
    "    for i in a:\n",
    "        if i==a[-2]:\n",
    "            print(i,end=\" and \")\n",
    "        elif i==a[-1]:\n",
    "            print(i)\n",
    "        else:\n",
    "            print(i,end=\", \")\n",
    "l=[]\n",
    "while True:\n",
    "    s=input()\n",
    "    if s!=\"\":\n",
    "        l.append(s)\n",
    "    else:\n",
    "        form(l)\n",
    "        break"
   ]
  },
  {
   "cell_type": "markdown",
   "metadata": {},
   "source": [
    "# 114"
   ]
  },
  {
   "cell_type": "code",
   "execution_count": 7,
   "metadata": {},
   "outputs": [
    {
     "name": "stdout",
     "output_type": "stream",
     "text": [
      "[5, 8, 23, 30, 39, 43]\n"
     ]
    }
   ],
   "source": [
    "#114\n",
    "from random import *\n",
    "l=[]\n",
    "while True:\n",
    "    i=randint(1,49)\n",
    "    if i not in l:\n",
    "        l.append(i)\n",
    "    if len(l)==6:\n",
    "        l.sort()\n",
    "        print(l)\n",
    "        break\n"
   ]
  },
  {
   "cell_type": "markdown",
   "metadata": {},
   "source": [
    "# 134"
   ]
  },
  {
   "cell_type": "code",
   "execution_count": 8,
   "metadata": {
    "scrolled": true
   },
   "outputs": [
    {
     "name": "stdout",
     "output_type": "stream",
     "text": [
      "hello, world!\n",
      "10\n"
     ]
    }
   ],
   "source": [
    "#134\n",
    "a=input()\n",
    "s=set(a)\n",
    "print(len(s))"
   ]
  },
  {
   "cell_type": "markdown",
   "metadata": {},
   "source": [
    "# 135"
   ]
  },
  {
   "cell_type": "code",
   "execution_count": 9,
   "metadata": {},
   "outputs": [
    {
     "name": "stdout",
     "output_type": "stream",
     "text": [
      "evil\n",
      "live\n",
      "anagram 맞다\n"
     ]
    }
   ],
   "source": [
    "\n",
    "l=[]\n",
    "flag=0\n",
    "for i in range(2):\n",
    "    a=input()\n",
    "    l.append(a)\n",
    "for j in l[0]:\n",
    "    if j not in l[1]:\n",
    "        flag=1\n",
    "if flag==0:\n",
    "    l[1]=l[1][::-1]\n",
    "    if l[0]==l[1]:\n",
    "        print(\"anagram 맞다\")\n",
    "    else:\n",
    "        print(\"anagram 아니다\")\n",
    "else: \n",
    "    print(\"anagram 아니다\")"
   ]
  }
 ],
 "metadata": {
  "kernelspec": {
   "display_name": "Python 3",
   "language": "python",
   "name": "python3"
  },
  "language_info": {
   "codemirror_mode": {
    "name": "ipython",
    "version": 3
   },
   "file_extension": ".py",
   "mimetype": "text/x-python",
   "name": "python",
   "nbconvert_exporter": "python",
   "pygments_lexer": "ipython3",
   "version": "3.6.4"
  }
 },
 "nbformat": 4,
 "nbformat_minor": 2
}
