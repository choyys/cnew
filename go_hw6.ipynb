{
 "cells": [
  {
   "cell_type": "markdown",
   "metadata": {},
   "source": [
    "# 129"
   ]
  },
  {
   "cell_type": "code",
   "execution_count": 44,
   "metadata": {},
   "outputs": [
    {
     "name": "stdout",
     "output_type": "stream",
     "text": [
      "            Total        Simulated         Expected\n",
      "                           Percent          Percent\n",
      "                2             1.90             1.90\n",
      "                3             5.40             5.40\n",
      "                4             9.00             9.00\n",
      "                5             9.90             9.90\n",
      "                6            11.60            11.60\n",
      "                7            18.20            18.20\n",
      "                8            14.20            14.20\n",
      "                9            12.50            12.50\n",
      "               10             8.50             8.50\n",
      "               11             6.10             6.10\n",
      "               12             2.70             2.70\n"
     ]
    }
   ],
   "source": [
    "from random import *\n",
    "\n",
    "def randdice():\n",
    "    i=randint(1,6)\n",
    "    j=randint(1,6)\n",
    "    res=i+j\n",
    "    return res\n",
    "\n",
    "dic={}\n",
    "for i in range(1000):\n",
    "    tot=randdice()\n",
    "    if tot not in dic:\n",
    "        dic[tot]=1\n",
    "    else:\n",
    "        dic[tot]+=1\n",
    "\n",
    "total=0\n",
    "for j in dic.values():\n",
    "    total+=j\n",
    "\n",
    "for k in dic:\n",
    "    siper=round(dic[k]/1000*100,3)\n",
    "    dic[k]=siper\n",
    "    \n",
    "dict=sorted(dic.items())\n",
    "lis=['Total','Simulated','Expected']\n",
    "pe='Percent'\n",
    "print(\"%17s%17s%17s\" %(lis[0],lis[1],lis[2]))\n",
    "print(\"%34s%17s\" %(pe,pe))\n",
    "for it in dict:\n",
    "    print('%17d%17.2f%17.2f' %(it[0],it[1],it[1]))"
   ]
  },
  {
   "cell_type": "markdown",
   "metadata": {},
   "source": [
    "# 130"
   ]
  },
  {
   "cell_type": "code",
   "execution_count": 29,
   "metadata": {},
   "outputs": [
    {
     "name": "stdout",
     "output_type": "stream",
     "text": [
      "Hello, World!\n",
      "4433555555666110966677755531111"
     ]
    }
   ],
   "source": [
    "dic={('.',',','?','!',':'):'1',('a','b','c'):'2',('d','e','f'):'3',('g','h','i'):'4',('j','k','l'):'5',('m','n','o'):'6',('p','q','r','s'):'7',\n",
    "     ('t','u','v'):'8', ('w','x','y','z'):'9', (\" \"):'0'}\n",
    "tdic=tuple(dic.keys())\n",
    "\n",
    "s=input()\n",
    "for i in s:\n",
    "    i=i.lower()\n",
    "    res=\"\"\n",
    "    for j in range(10):\n",
    "        if i in tdic[j]:\n",
    "            idx=tdic[j].index(i)\n",
    "            for k in range(idx+1):\n",
    "                res+=dic[tdic[j]]\n",
    "            print(res, end=\"\")\n",
    "            break"
   ]
  },
  {
   "cell_type": "markdown",
   "metadata": {},
   "source": [
    "# 131"
   ]
  },
  {
   "cell_type": "code",
   "execution_count": 31,
   "metadata": {},
   "outputs": [
    {
     "name": "stdout",
     "output_type": "stream",
     "text": [
      "Hello, World!\n",
      "....\t.\t.-..\t.-..\t---\t.--\t---\t.-.\t.-..\t-..\t"
     ]
    }
   ],
   "source": [
    "dic={'..-.': 'F', '-..-': 'X',\n",
    "     '.--.': 'P', '-': 'T', '..---': '2',\n",
    "     '....-': '4', '-----': '0', '--...': '7',\n",
    "     '...-': 'V', '-.-.': 'C', '.': 'E', '.---': 'J',\n",
    "     '---': 'O', '-.-': 'K', '----.': '9', '..': 'I',\n",
    "     '.-..': 'L', '.....': '5', '...--': '3', '-.--': 'Y',\n",
    "     '-....': '6', '.--': 'W', '....': 'H', '-.': 'N', '.-.': 'R',\n",
    "     '-...': 'B', '---..': '8', '--..': 'Z', '-..': 'D', '--.-': 'Q',\n",
    "     '--.': 'G', '--': 'M', '..-': 'U', '.-': 'A', '...': 'S', '.----': '1'}\n",
    "\n",
    "s=input()\n",
    "for i in s:\n",
    "    i=i.upper()\n",
    "    if i in dic.values():\n",
    "        for j in dic:\n",
    "            if dic[j]==i:\n",
    "                print(j, end=\"\\t\")\n",
    "                break\n",
    "                \n",
    "# 띄어쓰기로 구분하면 잘 분간이 안되서 tab으로 구분하였습니다. "
   ]
  },
  {
   "cell_type": "markdown",
   "metadata": {},
   "source": [
    "# 132"
   ]
  },
  {
   "cell_type": "code",
   "execution_count": 32,
   "metadata": {},
   "outputs": [
    {
     "name": "stdout",
     "output_type": "stream",
     "text": [
      "T2N 1N4\n",
      "the postal code is for a urban address in Alberta\n"
     ]
    }
   ],
   "source": [
    "dic={\n",
    "    'A':'Newfoundland','B':'Nova Scotia','C':'Prince Edward Island','E':'New Brunswick','G':'Quebec','H':'Quebec','J':'Quebec',\n",
    "    'K':'Ontario','L':'Ontario','M':'Ontario','N':'Ontario','P':'Ontario','R':'Manitoba','S':'Saskatchewan','T':'Alberta',\n",
    "    'V':'British Columbia','X':'Nunavut or Northwest Territories', 'Y':'Yukon', '0':'rural'\n",
    "}\n",
    "s=input()\n",
    "for i in range(2):\n",
    "    u=s[i].upper()\n",
    "    if u in dic:\n",
    "        if u=='0':\n",
    "            d=dic[u]\n",
    "        else:\n",
    "            c=dic[u]\n",
    "    else:\n",
    "        d='urban'\n",
    "        \n",
    "print(\"the postal code is for a \"+d+\" address in \"+c)\n",
    "    "
   ]
  }
 ],
 "metadata": {
  "kernelspec": {
   "display_name": "Python 3",
   "language": "python",
   "name": "python3"
  },
  "language_info": {
   "codemirror_mode": {
    "name": "ipython",
    "version": 3
   },
   "file_extension": ".py",
   "mimetype": "text/x-python",
   "name": "python",
   "nbconvert_exporter": "python",
   "pygments_lexer": "ipython3",
   "version": "3.6.4"
  }
 },
 "nbformat": 4,
 "nbformat_minor": 2
}
