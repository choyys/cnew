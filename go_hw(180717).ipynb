{
 "cells": [
  {
   "cell_type": "code",
   "execution_count": 24,
   "metadata": {},
   "outputs": [],
   "source": [
    "import requests\n",
    "from bs4 import BeautifulSoup as bs\n",
    "import sqlite3"
   ]
  },
  {
   "cell_type": "code",
   "execution_count": 25,
   "metadata": {},
   "outputs": [],
   "source": [
    "def makeUrl(numOfRows=10,pageNo=1,stationName='종로구',dataTerm='DAILY',ver=1.3):\n",
    "    \n",
    "    seed='http://openapi.airkorea.or.kr/openapi/services/rest/ArpltnInforInqireSvc/getMsrstnAcctoRltmMesureDnsty?serviceKey=Y1h4CIaTdzv5%2FUPQtwihKWe%2FHmjpuwfnJWBFtA7TSTlwhvxmNi5UTsn2CynYS8dtHcgLjT2anR7Bi1mDY9HF4g%3D%3D&pageSize=10&startPage=1'\n",
    "    full=seed+'&numOfRows='+str(numOfRows)+'&pageNo='+str(pageNo)+'&ver='+str(ver)+'&stationName='+stationName+'&dataTerm='+dataTerm\n",
    "    print(full)\n",
    "    return full\n"
   ]
  },
  {
   "cell_type": "code",
   "execution_count": 26,
   "metadata": {},
   "outputs": [
    {
     "name": "stdout",
     "output_type": "stream",
     "text": [
      "http://openapi.airkorea.or.kr/openapi/services/rest/ArpltnInforInqireSvc/getMsrstnAcctoRltmMesureDnsty?serviceKey=Y1h4CIaTdzv5%2FUPQtwihKWe%2FHmjpuwfnJWBFtA7TSTlwhvxmNi5UTsn2CynYS8dtHcgLjT2anR7Bi1mDY9HF4g%3D%3D&pageSize=10&startPage=1&numOfRows=10&pageNo=1&ver=1.3&stationName=종로구&dataTerm=DAILY\n"
     ]
    }
   ],
   "source": [
    "full_url= makeUrl()\n",
    "data=requests.get(full_url)\n",
    "data2=bs(data.text,'lxml')\n",
    "parsed = data2.findAll('item')"
   ]
  },
  {
   "cell_type": "code",
   "execution_count": 27,
   "metadata": {},
   "outputs": [],
   "source": [
    "conn=sqlite3.connect('go_hw180717.db')\n",
    "cur = conn.cursor()\n",
    "cur.execute(\"drop table if exists item\")\n",
    "cur.execute(\n",
    "'''create table item (\n",
    "num int primary key not null, \n",
    "content text note null\n",
    ")'''\n",
    "           )    \n",
    "for i,j in enumerate(parsed):\n",
    "    j=str(j)\n",
    "    cur.execute('insert into item values(?,?)',(i,j))\n",
    "    conn.commit()"
   ]
  },
  {
   "cell_type": "code",
   "execution_count": null,
   "metadata": {},
   "outputs": [],
   "source": []
  }
 ],
 "metadata": {
  "kernelspec": {
   "display_name": "Python 3",
   "language": "python",
   "name": "python3"
  },
  "language_info": {
   "codemirror_mode": {
    "name": "ipython",
    "version": 3
   },
   "file_extension": ".py",
   "mimetype": "text/x-python",
   "name": "python",
   "nbconvert_exporter": "python",
   "pygments_lexer": "ipython3",
   "version": "3.6.4"
  }
 },
 "nbformat": 4,
 "nbformat_minor": 2
}
